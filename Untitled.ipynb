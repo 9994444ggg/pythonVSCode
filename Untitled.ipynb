{
 "cells": [
  {
   "cell_type": "code",
   "execution_count": 3,
   "metadata": {},
   "outputs": [
    {
     "data": {
      "image/png": "[encoded data removed]",
      "text/plain": [
       "<Figure size 432x288 with 1 Axes>"
      ]
     },
     "metadata": {
      "needs_background": "light"
     },
     "output_type": "display_data"
    }
   ],
   "source": [
    "import numpy as np\n",
    "import matplotlib.pyplot as plt\n",
    "from matplotlib.animation import FuncAnimation\n",
    "\n",
    "fig, ax = plt.subplots()\n",
    "xdata, ydata = [], []\n",
    "ln, = plt.plot([], [], 'ro')\n",
    "\n",
    "def init():\n",
    "    ax.set_xlim(0, 2*np.pi)\n",
    "    ax.set_ylim(-1, 1)\n",
    "    return ln,\n",
    "\n",
    "def update(frame):\n",
    "    xdata.append(frame)\n",
    "    ydata.append(np.sin(frame))\n",
    "    ln.set_data(xdata, ydata)\n",
    "    return ln,\n",
    "\n",
    "ani = FuncAnimation(fig, update, frames=np.linspace(0, 2*np.pi, 128),\n",
    "                    init_func=init, blit=True)\n",
    "plt.show()"
   ]
  },
  {
   "cell_type": "code",
   "execution_count": 4,
   "metadata": {},
   "outputs": [
    {
     "ename": "ModuleNotFoundError",
     "evalue": "No module named 'gi'",
     "output_type": "error",
     "traceback": [
      "\u001b[0;31m-------------------------------------------------------------------------\u001b[0m",
      "\u001b[0;31mModuleNotFoundError\u001b[0m                     Traceback (most recent call last)",
      "\u001b[0;32m<ipython-input-4-5901798a4694>\u001b[0m in \u001b[0;36m<module>\u001b[0;34m\u001b[0m\n\u001b[0;32m----> 1\u001b[0;31m \u001b[0;32mimport\u001b[0m \u001b[0mgi\u001b[0m\u001b[0;34m\u001b[0m\u001b[0;34m\u001b[0m\u001b[0m\n\u001b[0m\u001b[1;32m      2\u001b[0m \u001b[0mgi\u001b[0m\u001b[0;34m.\u001b[0m\u001b[0mrequire_version\u001b[0m\u001b[0;34m(\u001b[0m\u001b[0;34m'Gtk'\u001b[0m\u001b[0;34m,\u001b[0m \u001b[0;34m'3.0'\u001b[0m\u001b[0;34m)\u001b[0m\u001b[0;34m\u001b[0m\u001b[0;34m\u001b[0m\u001b[0m\n\u001b[1;32m      3\u001b[0m \u001b[0;32mfrom\u001b[0m \u001b[0mgi\u001b[0m\u001b[0;34m.\u001b[0m\u001b[0mrepository\u001b[0m \u001b[0;32mimport\u001b[0m \u001b[0mGtk\u001b[0m\u001b[0;34m\u001b[0m\u001b[0;34m\u001b[0m\u001b[0m\n\u001b[1;32m      4\u001b[0m \u001b[0;34m\u001b[0m\u001b[0m\n\u001b[1;32m      5\u001b[0m \u001b[0;32mfrom\u001b[0m \u001b[0mmatplotlib\u001b[0m\u001b[0;34m.\u001b[0m\u001b[0mfigure\u001b[0m \u001b[0;32mimport\u001b[0m \u001b[0mFigure\u001b[0m\u001b[0;34m\u001b[0m\u001b[0;34m\u001b[0m\u001b[0m\n",
      "\u001b[0;31mModuleNotFoundError\u001b[0m: No module named 'gi'"
     ]
    }
   ],
   "source": [
    "import gi\n",
    "gi.require_version('Gtk', '3.0')\n",
    "from gi.repository import Gtk\n",
    "\n",
    "from matplotlib.figure import Figure\n",
    "from matplotlib.backends.backend_gtk3agg import FigureCanvas\n",
    "from matplotlib.backends.backend_gtk3 import (\n",
    "    NavigationToolbar2GTK3 as NavigationToolbar)\n",
    "\n",
    "win = Gtk.Window()\n",
    "win.connect(\"destroy\", lambda x: Gtk.main_quit())\n",
    "win.set_default_size(400,300)\n",
    "win.set_title(\"Embedding in GTK\")\n",
    "\n",
    "vbox = Gtk.VBox()\n",
    "win.add(vbox)\n",
    "\n",
    "fig = Figure(figsize=(5,4), dpi=100)\n",
    "ax = fig.add_subplot(111)\n",
    "ax.plot([1,2,3])\n",
    "\n",
    "canvas = FigureCanvas(fig)  # a Gtk.DrawingArea\n",
    "vbox.pack_start(canvas, True, True, 0)\n",
    "toolbar = NavigationToolbar(canvas, win)\n",
    "vbox.pack_start(toolbar, False, False, 0)\n",
    "\n",
    "win.show_all()\n",
    "Gtk.main()"
   ]
  },
  {
   "cell_type": "code",
   "execution_count": 5,
   "metadata": {},
   "outputs": [
    {
     "data": {
      "text/plain": [
       "[<matplotlib.lines.Line2D at 0x119c58278>]"
      ]
     },
     "execution_count": 5,
     "metadata": {},
     "output_type": "execute_result"
    },
    {
     "data": {
      "image/png": "[encoded data removed]",
      "text/plain": [
       "<Figure size 432x288 with 1 Axes>"
      ]
     },
     "metadata": {
      "needs_background": "light"
     },
     "output_type": "display_data"
    }
   ],
   "source": [
    "import numpy as np\n",
    "import matplotlib.pyplot as plt\n",
    "\n",
    "x = np.arange(0, 5, 0.1)\n",
    "y = np.sin(x)\n",
    "plt.plot(x, y)"
   ]
  },
  {
   "cell_type": "code",
   "execution_count": 6,
   "metadata": {},
   "outputs": [
    {
     "data": {
      "image/png": "[encoded data removed]",
      "text/plain": [
       "<Figure size 432x288 with 1 Axes>"
      ]
     },
     "metadata": {
      "needs_background": "light"
     },
     "output_type": "display_data"
    }
   ],
   "source": [
    "# draggable rectangle with the animation blit techniques; see\n",
    "# http://www.scipy.org/Cookbook/Matplotlib/Animations\n",
    "import numpy as np\n",
    "import matplotlib.pyplot as plt\n",
    "\n",
    "class DraggableRectangle:\n",
    "    lock = None  # only one can be animated at a time\n",
    "    def __init__(self, rect):\n",
    "        self.rect = rect\n",
    "        self.press = None\n",
    "        self.background = None\n",
    "\n",
    "    def connect(self):\n",
    "        'connect to all the events we need'\n",
    "        self.cidpress = self.rect.figure.canvas.mpl_connect(\n",
    "            'button_press_event', self.on_press)\n",
    "        self.cidrelease = self.rect.figure.canvas.mpl_connect(\n",
    "            'button_release_event', self.on_release)\n",
    "        self.cidmotion = self.rect.figure.canvas.mpl_connect(\n",
    "            'motion_notify_event', self.on_motion)\n",
    "\n",
    "    def on_press(self, event):\n",
    "        'on button press we will see if the mouse is over us and store some data'\n",
    "        if event.inaxes != self.rect.axes: return\n",
    "        if DraggableRectangle.lock is not None: return\n",
    "        contains, attrd = self.rect.contains(event)\n",
    "        if not contains: return\n",
    "        print('event contains', self.rect.xy)\n",
    "        x0, y0 = self.rect.xy\n",
    "        self.press = x0, y0, event.xdata, event.ydata\n",
    "        DraggableRectangle.lock = self\n",
    "\n",
    "        # draw everything but the selected rectangle and store the pixel buffer\n",
    "        canvas = self.rect.figure.canvas\n",
    "        axes = self.rect.axes\n",
    "        self.rect.set_animated(True)\n",
    "        canvas.draw()\n",
    "        self.background = canvas.copy_from_bbox(self.rect.axes.bbox)\n",
    "\n",
    "        # now redraw just the rectangle\n",
    "        axes.draw_artist(self.rect)\n",
    "\n",
    "        # and blit just the redrawn area\n",
    "        canvas.blit(axes.bbox)\n",
    "\n",
    "    def on_motion(self, event):\n",
    "        'on motion we will move the rect if the mouse is over us'\n",
    "        if DraggableRectangle.lock is not self:\n",
    "            return\n",
    "        if event.inaxes != self.rect.axes: return\n",
    "        x0, y0, xpress, ypress = self.press\n",
    "        dx = event.xdata - xpress\n",
    "        dy = event.ydata - ypress\n",
    "        self.rect.set_x(x0+dx)\n",
    "        self.rect.set_y(y0+dy)\n",
    "\n",
    "        canvas = self.rect.figure.canvas\n",
    "        axes = self.rect.axes\n",
    "        # restore the background region\n",
    "        canvas.restore_region(self.background)\n",
    "\n",
    "        # redraw just the current rectangle\n",
    "        axes.draw_artist(self.rect)\n",
    "\n",
    "        # blit just the redrawn area\n",
    "        canvas.blit(axes.bbox)\n",
    "\n",
    "    def on_release(self, event):\n",
    "        'on release we reset the press data'\n",
    "        if DraggableRectangle.lock is not self:\n",
    "            return\n",
    "\n",
    "        self.press = None\n",
    "        DraggableRectangle.lock = None\n",
    "\n",
    "        # turn off the rect animation property and reset the background\n",
    "        self.rect.set_animated(False)\n",
    "        self.background = None\n",
    "\n",
    "        # redraw the full figure\n",
    "        self.rect.figure.canvas.draw()\n",
    "\n",
    "    def disconnect(self):\n",
    "        'disconnect all the stored connection ids'\n",
    "        self.rect.figure.canvas.mpl_disconnect(self.cidpress)\n",
    "        self.rect.figure.canvas.mpl_disconnect(self.cidrelease)\n",
    "        self.rect.figure.canvas.mpl_disconnect(self.cidmotion)\n",
    "\n",
    "fig = plt.figure()\n",
    "ax = fig.add_subplot(111)\n",
    "rects = ax.bar(range(10), 20*np.random.rand(10))\n",
    "drs = []\n",
    "for rect in rects:\n",
    "    dr = DraggableRectangle(rect)\n",
    "    dr.connect()\n",
    "    drs.append(dr)\n",
    "\n",
    "plt.show()"
   ]
  },
  {
   "cell_type": "code",
   "execution_count": null,
   "metadata": {},
   "outputs": [],
   "source": []
  }
 ],
 "metadata": {
  "kernelspec": {
   "display_name": "Python 3",
   "language": "python",
   "name": "python3"
  },
  "language_info": {
   "codemirror_mode": {
    "name": "ipython",
    "version": 3
   },
   "file_extension": ".py",
   "mimetype": "text/x-python",
   "name": "python",
   "nbconvert_exporter": "python",
   "pygments_lexer": "ipython3",
   "version": "3.7.3"
  },
  "toc": {
   "base_numbering": 1,
   "nav_menu": {},
   "number_sections": false,
   "sideBar": false,
   "skip_h1_title": false,
   "title_cell": "Table of Contents",
   "title_sidebar": "Contents",
   "toc_cell": false,
   "toc_position": {},
   "toc_section_display": false,
   "toc_window_display": false
  }
 },
 "nbformat": 4,
 "nbformat_minor": 2
}
